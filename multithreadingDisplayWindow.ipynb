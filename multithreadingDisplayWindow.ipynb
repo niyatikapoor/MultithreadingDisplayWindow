{
 "cells": [
  {
   "cell_type": "code",
   "execution_count": 1,
   "metadata": {},
   "outputs": [],
   "source": [
    "import random\n",
    "import threading\n",
    "import tkinter as tk\n",
    "\n",
    "def display_num(label, min_val, max_val, interval, range_label, time_label):\n",
    "    while True:\n",
    "        rand_num = random.randint(min_val, max_val)\n",
    "        label.config(text=f\"Random Number: {rand_num}\")\n",
    "        range_label.config(text=f\"Range: [{min_val}, {max_val}]\")\n",
    "        time_label.config(text=f\"Refresh Time: {interval} seconds\")\n",
    "        threading.Event().wait(interval)\n",
    "\n",
    "root = tk.Tk()\n",
    "root.title(\"Display Window\")\n",
    "\n",
    "# Create six frames to partition the window\n",
    "frame1 = tk.Frame(root, bg=\"red\", width=200, height=200)\n",
    "frame1.grid(row=0, column=0)\n",
    "\n",
    "frame2 = tk.Frame(root, bg=\"green\", width=200, height=200)\n",
    "frame2.grid(row=0, column=1)\n",
    "\n",
    "frame3 = tk.Frame(root, bg=\"blue\", width=200, height=200)\n",
    "frame3.grid(row=0, column=2)\n",
    "\n",
    "frame4 = tk.Frame(root, bg=\"yellow\", width=200, height=200)\n",
    "frame4.grid(row=1, column=0)\n",
    "\n",
    "frame5 = tk.Frame(root, bg=\"purple\", width=200, height=200)\n",
    "frame5.grid(row=1, column=1)\n",
    "\n",
    "frame6 = tk.Frame(root, bg=\"orange\", width=200, height=200)\n",
    "frame6.grid(row=1, column=2)\n",
    "\n",
    "# Create a thread for each frame to display random numbers\n",
    "threads = []\n",
    "for frame, min_val, max_val, interval in [(frame1, 0, 10, 2), (frame2, 10, 20, 3), (frame3, 20, 30, 4), (frame4, 30, 40, 5), (frame5, 40, 50, 2), (frame6, 50, 60, 3)]:\n",
    "    label = tk.Label(frame, font=(\"Arial\", 20))\n",
    "    label.pack(padx=50, pady=50)\n",
    "    range_label = tk.Label(frame, text=f\"Range: [{min_val}, {max_val}]\", font=(\"Arial\", 10))\n",
    "    range_label.pack(pady=5)\n",
    "    time_label = tk.Label(frame, text=f\"Refresh Time: {interval} seconds\", font=(\"Arial\", 10))\n",
    "    time_label.pack(pady=5)\n",
    "    thread = threading.Thread(target=display_num, args=(label, min_val, max_val, interval, range_label, time_label))\n",
    "    threads.append(thread)\n",
    "    thread.start()\n",
    "\n",
    "root.mainloop()\n",
    "\n",
    "# Stop all threads before exiting\n",
    "#for thread in threads:\n",
    "    #thread.stop()\n"
   ]
  }
 ],
 "metadata": {
  "kernelspec": {
   "display_name": "Python 3",
   "language": "python",
   "name": "python3"
  },
  "language_info": {
   "codemirror_mode": {
    "name": "ipython",
    "version": 3
   },
   "file_extension": ".py",
   "mimetype": "text/x-python",
   "name": "python",
   "nbconvert_exporter": "python",
   "pygments_lexer": "ipython3",
   "version": "3.10.5"
  },
  "orig_nbformat": 4,
  "vscode": {
   "interpreter": {
    "hash": "a9cff5a362bc38ef45d817ae74b1af54d6a076e3d773891282bce078b815ba34"
   }
  }
 },
 "nbformat": 4,
 "nbformat_minor": 2
}
